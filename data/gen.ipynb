{
 "cells": [
  {
   "cell_type": "code",
   "execution_count": 1,
   "source": [
    "from sklearn.datasets import make_classification\n",
    "from sklearn.datasets import make_blobs\n",
    "from sklearn.datasets import make_gaussian_quantiles\n",
    "\n",
    "import numpy as np"
   ],
   "outputs": [],
   "metadata": {}
  },
  {
   "cell_type": "code",
   "execution_count": 6,
   "source": [
    "def save(name, arr):\n",
    "    np.savetxt(f\"{name}.csv\", arr,fmt='%.6f,%.6f,%.0f', header=\"X,Y,Class\", comments=\"\")\n",
    "\n",
    "\n",
    "def format(X1, Y1):\n",
    "    Y1 = np.reshape(Y1, (-1, 1))\n",
    "    return np.hstack((X1, Y1))"
   ],
   "outputs": [],
   "metadata": {}
  },
  {
   "cell_type": "code",
   "execution_count": 7,
   "source": [
    "X1, Y1 = make_classification(\n",
    "    n_features=2, n_redundant=0,class_sep=2, n_informative=2, n_clusters_per_class=1, n_classes=4)\n",
    "\n",
    "\n",
    "save('data4', format(X1, Y1))"
   ],
   "outputs": [],
   "metadata": {}
  }
 ],
 "metadata": {
  "orig_nbformat": 4,
  "language_info": {
   "name": "python",
   "version": "3.9.2",
   "mimetype": "text/x-python",
   "codemirror_mode": {
    "name": "ipython",
    "version": 3
   },
   "pygments_lexer": "ipython3",
   "nbconvert_exporter": "python",
   "file_extension": ".py"
  },
  "kernelspec": {
   "name": "python3",
   "display_name": "Python 3.9.2 64-bit ('py39': conda)"
  },
  "interpreter": {
   "hash": "239935d41b0369a4d280c769f1ff602814e7563a154297a5ec806f916e7880df"
  }
 },
 "nbformat": 4,
 "nbformat_minor": 2
}